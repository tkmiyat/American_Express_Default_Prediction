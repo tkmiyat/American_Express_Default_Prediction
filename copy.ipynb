{
  "cells": [
    {
      "cell_type": "code",
      "execution_count": 5,
      "metadata": {},
      "outputs": [
        {
          "name": "stderr",
          "output_type": "stream",
          "text": [
            "100%|██████████| 190/190 [00:00<00:00, 9076.82it/s]\n",
            "100%|██████████| 190/190 [00:00<00:00, 8863.01it/s]\n"
          ]
        }
      ],
      "source": [
        "import warnings\n",
        "warnings.simplefilter('ignore')\n",
        "\n",
        "import numpy as np\n",
        "import pandas as pd\n",
        "import matplotlib.pyplot as plt\n",
        "from tqdm import tqdm\n",
        "\n",
        "def denoise(df):\n",
        "    df['D_63'] = df['D_63'].apply(lambda t: {'CR':0, 'XZ':1, 'XM':2, 'CO':3, 'CL':4, 'XL':5}[t]).astype(np.int8)\n",
        "    df['D_64'] = df['D_64'].apply(lambda t: {np.nan:-1, 'O':0, '-1':1, 'R':2, 'U':3}[t]).astype(np.int8)\n",
        "    for col in tqdm(df.columns):\n",
        "        if col not in ['customer_ID','S_2','D_63','D_64']:\n",
        "            df[col] = np.floor(df[col]*100)\n",
        "    return df\n",
        "\n",
        "test = pd.read_csv('test_data.csv', nrows=1000)\n",
        "test = denoise(test)\n",
        "test.to_feather('/workspaces/opt/test.feather')\n",
        "\n",
        "train = pd.read_csv('train_data.csv', nrows=1000)\n",
        "train = denoise(train)\n",
        "train.to_feather('/workspaces/opt/train.feather')"
      ]
    },
    {
      "cell_type": "code",
      "execution_count": 7,
      "metadata": {},
      "outputs": [
        {
          "name": "stdout",
          "output_type": "stream",
          "text": [
            "one hot encoding: B_30\n",
            "one hot encoding: B_38\n",
            "one hot encoding: D_114\n",
            "one hot encoding: D_116\n",
            "one hot encoding: D_117\n",
            "one hot encoding: D_120\n",
            "one hot encoding: D_126\n",
            "one hot encoding: D_63\n",
            "one hot encoding: D_64\n",
            "one hot encoding: D_66\n",
            "one hot encoding: D_68\n"
          ]
        },
        {
          "name": "stderr",
          "output_type": "stream",
          "text": [
            "cat_feature:   0%|          | 0/15 [00:00<?, ?it/s]"
          ]
        },
        {
          "name": "stdout",
          "output_type": "stream",
          "text": [
            "cat feature shape after engineeringcat feature shape after engineering cat feature shape after engineering(11, 196)\n",
            "cat feature shape after engineering cat feature shape after engineering cat feature shape after engineering(11, 196) \n",
            "(11, 196)"
          ]
        },
        {
          "name": "stderr",
          "output_type": "stream",
          "text": [
            "cat_feature:  93%|█████████▎| 14/15 [00:00<00:00, 135.84it/s]"
          ]
        },
        {
          "name": "stdout",
          "output_type": "stream",
          "text": [
            " \n",
            "(11, 196)(11, 196) "
          ]
        },
        {
          "name": "stderr",
          "output_type": "stream",
          "text": [
            "cat_feature: 100%|██████████| 15/15 [00:00<00:00, 120.13it/s]"
          ]
        },
        {
          "name": "stdout",
          "output_type": "stream",
          "text": [
            "(11, 196)cat feature shape after engineering\n",
            "\n",
            "cat feature shape after engineering \n",
            "(11, 196) \n",
            "(11, 196)cat feature shape after engineering\n",
            "cat feature shape after engineering  (11, 196)(11, 196)\n",
            "\n",
            "cat feature shape after engineering (11, 196)\n",
            "cat feature shape after engineeringcat feature shape after engineering  (11, 196)"
          ]
        },
        {
          "name": "stderr",
          "output_type": "stream",
          "text": [
            "\n"
          ]
        },
        {
          "name": "stdout",
          "output_type": "stream",
          "text": [
            "(11, 196)\n",
            "cat feature shape after engineering\n",
            " cat feature shape after engineering(11, 196) \n",
            "(8, 196)\n"
          ]
        },
        {
          "name": "stderr",
          "output_type": "stream",
          "text": [
            "num_feature: 100%|██████████| 15/15 [00:00<00:00, 212.74it/s]\n"
          ]
        },
        {
          "name": "stdout",
          "output_type": "stream",
          "text": [
            "num feature shape after engineeringnum feature shape after engineering  (11, 1063)(11, 1063)\n",
            "\n",
            "num feature shape after engineeringnum feature shape after engineering (11, 1063)\n",
            "num feature shape after engineering  (11, 1063)\n",
            "num feature shape after engineeringnum feature shape after engineering (11, 1063)num feature shape after engineering \n",
            "(11, 1063)(11, 1063) \n",
            "(11, 1063)\n",
            "num feature shape after engineering\n",
            "num feature shape after engineeringnum feature shape after engineering  (11, 1063)(11, 1063) \n",
            "num feature shape after engineeringnum feature shape after engineering\n",
            "(11, 1063)  \n",
            "num feature shape after engineering(8, 1063)(11, 1063)\n",
            " \n",
            "(11, 1063)\n",
            "num feature shape after engineering (11, 1063)\n"
          ]
        },
        {
          "name": "stderr",
          "output_type": "stream",
          "text": [
            "diff_feature: 100%|██████████| 15/15 [00:00<00:00, 299.30it/s]\n"
          ]
        },
        {
          "name": "stdout",
          "output_type": "stream",
          "text": [
            "diff feature shape after engineeringdiff feature shape after engineering (11, 1063) (11, 1063)\n",
            "diff feature shape after engineering\n",
            " (11, 1063)diff feature shape after engineering\n",
            " (11, 1063)\n",
            "diff feature shape after engineering diff feature shape after engineering (11, 1063)diff feature shape after engineering(11, 1063) (8, 1063)\n",
            "\n",
            "\n",
            "diff feature shape after engineering (11, 1063)\n",
            "diff feature shape after engineering (11, 1063)\n",
            "diff feature shape after engineering (11, 1063)\n",
            "diff feature shape after engineering (11, 1063)\n",
            "diff feature shape after engineering (11, 1063)\n",
            "diff feature shape after engineering (11, 1063)\n",
            "diff feature shape after engineering (11, 1063)\n",
            "diff feature shape after engineering (11, 1063)\n"
          ]
        },
        {
          "name": "stderr",
          "output_type": "stream",
          "text": [
            "num_feature: 100%|██████████| 15/15 [00:00<00:00, 297.78it/s]"
          ]
        },
        {
          "name": "stdout",
          "output_type": "stream",
          "text": [
            "num feature shape after engineering (11, 178)num feature shape after engineeringnum feature shape after engineering\n",
            "  num feature shape after engineeringnum feature shape after engineeringnum feature shape after engineeringnum feature shape after engineering(11, 178)  num feature shape after engineering  (11, 178)\n",
            "num feature shape after engineering(11, 178)num feature shape after engineeringnum feature shape after engineering (11, 178)num feature shape after engineering\n",
            "  (11, 178) (11, 178)\n",
            " (11, 178)\n",
            "num feature shape after engineering(11, 178)\n",
            "(11, 178)(11, 178)\n",
            "\n",
            "(11, 178)\n",
            "\n",
            "\n",
            "\n",
            " num feature shape after engineering(11, 178) \n",
            "(11, 178)num feature shape after engineering\n",
            " (8, 178)\n"
          ]
        },
        {
          "name": "stderr",
          "output_type": "stream",
          "text": [
            "\n",
            "num_feature: 100%|██████████| 15/15 [00:00<00:00, 300.69it/s]\n"
          ]
        },
        {
          "name": "stdout",
          "output_type": "stream",
          "text": [
            "num feature shape after engineering (11, 1063)\n",
            "num feature shape after engineering (11, 1063)\n",
            "num feature shape after engineering (11, 1063)num feature shape after engineering\n",
            "num feature shape after engineeringnum feature shape after engineering num feature shape after engineering (11, 1063)num feature shape after engineering (11, 1063)(11, 1063)\n",
            "num feature shape after engineering  \n",
            " num feature shape after engineering(11, 1063)\n",
            "\n",
            " (11, 1063)num feature shape after engineering(11, 1063)\n",
            " \n",
            "num feature shape after engineering(11, 1063)\n",
            " (11, 1063)(11, 1063)num feature shape after engineering\n",
            "num feature shape after engineering \n",
            " (8, 1063)(11, 1063)\n",
            "\n",
            "num feature shape after engineering (11, 1063)\n",
            "all df shape (2000, 190)\n",
            "last 3 shape (481, 190)\n",
            "one hot encoding: B_30\n",
            "one hot encoding: B_38\n",
            "one hot encoding: D_114\n",
            "one hot encoding: D_116\n",
            "one hot encoding: D_117\n",
            "one hot encoding: D_120\n",
            "one hot encoding: D_126\n",
            "one hot encoding: D_63\n",
            "one hot encoding: D_64\n",
            "one hot encoding: D_66\n",
            "one hot encoding: D_68\n"
          ]
        },
        {
          "name": "stderr",
          "output_type": "stream",
          "text": [
            "cat_feature: 100%|██████████| 15/15 [00:00<00:00, 357.60it/s]"
          ]
        },
        {
          "name": "stdout",
          "output_type": "stream",
          "text": [
            "cat feature shape after engineeringcat feature shape after engineeringcat feature shape after engineeringcat feature shape after engineeringcat feature shape after engineering cat feature shape after engineeringcat feature shape after engineeringcat feature shape after engineering   cat feature shape after engineering (11, 133)  cat feature shape after engineering(11, 133)\n",
            "(11, 133)\n",
            "cat feature shape after engineering (11, 133)  \n",
            "cat feature shape after engineering(11, 133)\n",
            "(11, 133)(11, 133)(11, 133)\n",
            "cat feature shape after engineering(11, 133)\n",
            "(11, 133) cat feature shape after engineering\n",
            "(11, 133) \n",
            "\n",
            " (11, 133)\n",
            "\n",
            "(11, 133) (11, 133)\n",
            "\n",
            "\n",
            "cat feature shape after engineering (8, 133)\n"
          ]
        },
        {
          "name": "stderr",
          "output_type": "stream",
          "text": [
            "\n",
            "num_feature: 100%|██████████| 15/15 [00:00<00:00, 448.36it/s]\n"
          ]
        },
        {
          "name": "stdout",
          "output_type": "stream",
          "text": [
            "num feature shape after engineeringnum feature shape after engineering num feature shape after engineering (11, 886)\n",
            " (11, 886)\n",
            "(11, 886)\n",
            "num feature shape after engineeringnum feature shape after engineeringnum feature shape after engineering  num feature shape after engineeringnum feature shape after engineering (11, 886)num feature shape after engineering\n",
            " (11, 886)(11, 886)\n",
            "num feature shape after engineering\n",
            " num feature shape after engineering(11, 886)   (11, 886)(11, 886)\n",
            "num feature shape after engineering(11, 886)\n",
            "\n",
            "\n",
            "(11, 886) num feature shape after engineering(8, 886)\n",
            " \n",
            "(11, 886)\n",
            "num feature shape after engineering (11, 886)\n",
            "num feature shape after engineering (11, 886)\n"
          ]
        },
        {
          "name": "stderr",
          "output_type": "stream",
          "text": [
            "diff_feature: 100%|██████████| 15/15 [00:00<00:00, 404.31it/s]"
          ]
        },
        {
          "name": "stdout",
          "output_type": "stream",
          "text": [
            "diff feature shape after engineering diff feature shape after engineeringdiff feature shape after engineering  (11, 886)(11, 886)"
          ]
        },
        {
          "name": "stderr",
          "output_type": "stream",
          "text": [
            "\n"
          ]
        },
        {
          "name": "stdout",
          "output_type": "stream",
          "text": [
            "\n",
            "(11, 886)\n",
            "\n",
            "diff feature shape after engineering (11, 886)\n",
            "diff feature shape after engineeringdiff feature shape after engineering (8, 886) \n",
            "diff feature shape after engineering (11, 886)diff feature shape after engineering\n",
            "(11, 886)diff feature shape after engineering \n",
            "(11, 886)\n",
            " diff feature shape after engineering(11, 886) \n",
            "diff feature shape after engineering(11, 886) (11, 886)\n",
            "\n",
            "diff feature shape after engineering (11, 886)\n",
            "diff feature shape after engineeringdiff feature shape after engineering (11, 886) (11, 886)\n",
            "diff feature shape after engineering\n",
            " (11, 886)\n",
            "all df shape (2000, 190)\n",
            "last 6 shape (951, 190)\n"
          ]
        },
        {
          "name": "stderr",
          "output_type": "stream",
          "text": [
            "num_feature: 100%|██████████| 15/15 [00:00<00:00, 230.59it/s]\n"
          ]
        },
        {
          "name": "stdout",
          "output_type": "stream",
          "text": [
            "num feature shape after engineering (11, 886)\n",
            "num feature shape after engineering num feature shape after engineeringnum feature shape after engineering  num feature shape after engineering(11, 886) (11, 886)\n",
            "num feature shape after engineeringnum feature shape after engineering(11, 886)\n",
            "\n",
            " (11, 886)num feature shape after engineering\n",
            "num feature shape after engineering  (11, 886)(11, 886)(11, 886)\n",
            "\n",
            "num feature shape after engineering \n",
            " (11, 886)(11, 886)num feature shape after engineeringnum feature shape after engineering\n",
            " \n",
            " num feature shape after engineeringnum feature shape after engineering(11, 886)(11, 886)\n",
            "  \n",
            "(8, 886)num feature shape after engineering(11, 886)\n",
            "\n",
            " (11, 886)\n"
          ]
        }
      ],
      "source": [
        "import warnings\n",
        "warnings.simplefilter('ignore')\n",
        "\n",
        "import pandas as pd\n",
        "import numpy as np\n",
        "import matplotlib.pyplot as plt\n",
        "import gc,os,random\n",
        "import time,datetime\n",
        "from tqdm import tqdm\n",
        "from multiprocessing import Pool as ThreadPool\n",
        "\n",
        "\n",
        "def one_hot_encoding(df,cols,is_drop=True):\n",
        "    for col in cols:\n",
        "        print('one hot encoding:',col)\n",
        "        dummies = pd.get_dummies(pd.Series(df[col]),prefix='oneHot_%s'%col)\n",
        "        df = pd.concat([df,dummies],axis=1)\n",
        "    if is_drop:\n",
        "        df.drop(cols,axis=1,inplace=True)\n",
        "    return df\n",
        "\n",
        "def cat_feature(df):\n",
        "    one_hot_features = [col for col in df.columns if 'oneHot' in col]\n",
        "    if lastk is None:\n",
        "        num_agg_df = df.groupby(\"customer_ID\",sort=False)[one_hot_features].agg(['mean', 'std', 'sum', 'last'])\n",
        "    else:\n",
        "        num_agg_df = df.groupby(\"customer_ID\",sort=False)[one_hot_features].agg(['mean', 'std', 'sum'])\n",
        "    num_agg_df.columns = ['_'.join(x) for x in num_agg_df.columns]\n",
        "\n",
        "    if lastk is None:\n",
        "        cat_agg_df = df.groupby(\"customer_ID\",sort=False)[cat_features].agg(['last', 'nunique'])\n",
        "    else:\n",
        "        cat_agg_df = df.groupby(\"customer_ID\",sort=False)[cat_features].agg(['nunique'])\n",
        "    cat_agg_df.columns = ['_'.join(x) for x in cat_agg_df.columns]\n",
        "\n",
        "    count_agg_df = df.groupby(\"customer_ID\",sort=False)[['S_2']].agg(['count'])\n",
        "    count_agg_df.columns = ['_'.join(x) for x in count_agg_df.columns]\n",
        "    df = pd.concat([num_agg_df, cat_agg_df,count_agg_df], axis=1).reset_index()\n",
        "    print('cat feature shape after engineering', df.shape )\n",
        "\n",
        "    return df\n",
        "\n",
        "def num_feature(df):\n",
        "    if num_features[0][:5] == 'rank_':\n",
        "        num_agg_df = df.groupby(\"customer_ID\",sort=False)[num_features].agg(['last'])\n",
        "    else:\n",
        "        if lastk is None:\n",
        "            num_agg_df = df.groupby(\"customer_ID\",sort=False)[num_features].agg(['mean', 'std', 'min', 'max', 'sum', 'last'])\n",
        "        else:\n",
        "            num_agg_df = df.groupby(\"customer_ID\",sort=False)[num_features].agg(['mean', 'std', 'min', 'max', 'sum'])\n",
        "    num_agg_df.columns = ['_'.join(x) for x in num_agg_df.columns]\n",
        "    if num_features[0][:5] != 'rank_':\n",
        "        for col in num_agg_df.columns:\n",
        "            num_agg_df[col] = num_agg_df[col] // 0.01\n",
        "    df = num_agg_df.reset_index()\n",
        "    print('num feature shape after engineering', df.shape )\n",
        "\n",
        "    return df\n",
        "\n",
        "def diff_feature(df):\n",
        "    diff_num_features = [f'diff_{col}' for col in num_features]\n",
        "    cids = df['customer_ID'].values\n",
        "    df = df.groupby('customer_ID')[num_features].diff().add_prefix('diff_')\n",
        "    df.insert(0,'customer_ID',cids)\n",
        "    if lastk is None:\n",
        "        num_agg_df = df.groupby(\"customer_ID\",sort=False)[diff_num_features].agg(['mean', 'std', 'min', 'max', 'sum', 'last'])\n",
        "    else:\n",
        "        num_agg_df = df.groupby(\"customer_ID\",sort=False)[diff_num_features].agg(['mean', 'std', 'min', 'max', 'sum'])\n",
        "    num_agg_df.columns = ['_'.join(x) for x in num_agg_df.columns]\n",
        "    for col in num_agg_df.columns:\n",
        "        num_agg_df[col] = num_agg_df[col] // 0.01\n",
        "\n",
        "    df = num_agg_df.reset_index()\n",
        "    print('diff feature shape after engineering', df.shape )\n",
        "\n",
        "    return df\n",
        "\n",
        "n_cpu = 16\n",
        "transform = [['','rank_','ym_rank_'],[''],['']]\n",
        "\n",
        "for li, lastk in enumerate([None,3,6]):\n",
        "    for prefix in transform[li]:\n",
        "        train_df = pd.read_feather('/workspaces/opt/train.feather')\n",
        "        test_df = pd.read_feather('/workspaces/opt/test.feather')\n",
        "        df = pd.concat([train_df, test_df], ignore_index=True)\n",
        "        all_cols = [c for c in list(df.columns) if c not in ['customer_ID','S_2']]\n",
        "        cat_features = [\"B_30\",\"B_38\",\"D_114\",\"D_116\",\"D_117\",\"D_120\",\"D_126\",\"D_63\",\"D_64\",\"D_66\",\"D_68\"]\n",
        "        num_features = [col for col in all_cols if col not in cat_features]\n",
        "        for col in [col for col in df.columns if 'S_' in col or 'P_' in col]:\n",
        "            if col != 'S_2':\n",
        "                df[col] = df[col].fillna(0)\n",
        "\n",
        "        if lastk is not None:\n",
        "            prefix = f'last{lastk}_' + prefix\n",
        "            print('all df shape',df.shape)\n",
        "            df['rank'] = df.groupby('customer_ID')['S_2'].rank(ascending=False)\n",
        "            df = df.loc[df['rank']<=lastk].reset_index(drop=True)\n",
        "            df = df.drop(['rank'],axis=1)\n",
        "            print(f'last {lastk} shape',df.shape)\n",
        "\n",
        "        if prefix == 'rank_':\n",
        "            cids = df['customer_ID'].values\n",
        "            df = df.groupby('customer_ID')[num_features].rank(pct=True).add_prefix('rank_')\n",
        "            df.insert(0,'customer_ID',cids)\n",
        "            num_features = [f'rank_{col}' for col in num_features]\n",
        "\n",
        "        if prefix == 'ym_rank_':\n",
        "            cids = df['customer_ID'].values\n",
        "            df['ym'] = df['S_2'].apply(lambda x:x[:7])\n",
        "            df = df.groupby('ym')[num_features].rank(pct=True).add_prefix('ym_rank_')\n",
        "            num_features = [f'ym_rank_{col}' for col in num_features]\n",
        "            df.insert(0,'customer_ID',cids)\n",
        "\n",
        "        if prefix in ['','last3_']:\n",
        "            df = one_hot_encoding(df,cat_features,False)\n",
        "\n",
        "        vc = df['customer_ID'].value_counts(sort=False).cumsum()\n",
        "        batch_size = int(np.ceil(len(vc) / n_cpu))\n",
        "        dfs = []\n",
        "        start = 0\n",
        "        for i in range(min(n_cpu,int(np.ceil(len(vc) / batch_size)))):\n",
        "            vc_ = vc[i*batch_size:(i+1)*batch_size]\n",
        "            dfs.append(df[start:vc_[-1]])\n",
        "            start = vc_[-1]\n",
        "\n",
        "        pool = ThreadPool(n_cpu)\n",
        "\n",
        "        if prefix in ['','last3_']:\n",
        "            cat_feature_df = pd.concat(pool.map(cat_feature,tqdm(dfs,desc='cat_feature'))).reset_index(drop=True)\n",
        "\n",
        "            cat_feature_df.to_feather(f'/workspaces/opt/{prefix}cat_feature.feather')\n",
        "\n",
        "        if prefix in ['','last3_','last6_','rank_','ym_rank_']:\n",
        "            num_feature_df = pd.concat(pool.map(num_feature,tqdm(dfs,desc='num_feature'))).reset_index(drop=True)\n",
        "            num_feature_df.to_feather(f'/workspaces/opt/{prefix}num_feature.feather')\n",
        "\n",
        "        if prefix in ['','last3_']:\n",
        "            diff_feature_df = pd.concat(pool.map(diff_feature,tqdm(dfs,desc='diff_feature'))).reset_index(drop=True)\n",
        "            diff_feature_df.to_feather(f'/workspaces/opt/{prefix}diff_feature.feather')\n",
        "\n",
        "        pool.close()"
      ]
    },
    {
      "cell_type": "code",
      "execution_count": 17,
      "metadata": {},
      "outputs": [
        {
          "ename": "NameError",
          "evalue": "name 'args' is not defined",
          "output_type": "error",
          "traceback": [
            "\u001b[0;31m---------------------------------------------------------------------------\u001b[0m",
            "\u001b[0;31mNameError\u001b[0m                                 Traceback (most recent call last)",
            "\u001b[1;32m/workspaces/opt/Untitled4.ipynb Cell 3\u001b[0m line \u001b[0;36m1\n\u001b[1;32m     <a href='vscode-notebook-cell://dev-container%2B7b22686f737450617468223a222f55736572732f7461696b696d69796174612f446f63756d656e74732f646f636b65722d707974686f6e2f6f7074222c226c6f63616c446f636b6572223a66616c73652c2273657474696e6773223a7b22636f6e74657874223a226465736b746f702d6c696e7578227d2c22636f6e66696746696c65223a7b22246d6964223a312c22667350617468223a222f55736572732f7461696b696d69796174612f446f63756d656e74732f646f636b65722d707974686f6e2f6f70742f2e646576636f6e7461696e65722f646576636f6e7461696e65722e6a736f6e222c2265787465726e616c223a2266696c653a2f2f2f55736572732f7461696b696d69796174612f446f63756d656e74732f646f636b65722d707974686f6e2f6f70742f2e646576636f6e7461696e65722f646576636f6e7461696e65722e6a736f6e222c2270617468223a222f55736572732f7461696b696d69796174612f446f63756d656e74732f646f636b65722d707974686f6e2f6f70742f2e646576636f6e7461696e65722f646576636f6e7461696e65722e6a736f6e222c22736368656d65223a2266696c65227d7d/workspaces/opt/Untitled4.ipynb#W6sdnNjb2RlLXJlbW90ZQ%3D%3D?line=9'>10</a>\u001b[0m \u001b[39mfrom\u001b[39;00m \u001b[39msklearn\u001b[39;00m\u001b[39m.\u001b[39;00m\u001b[39mpreprocessing\u001b[39;00m \u001b[39mimport\u001b[39;00m LabelEncoder\n\u001b[1;32m     <a href='vscode-notebook-cell://dev-container%2B7b22686f737450617468223a222f55736572732f7461696b696d69796174612f446f63756d656e74732f646f636b65722d707974686f6e2f6f7074222c226c6f63616c446f636b6572223a66616c73652c2273657474696e6773223a7b22636f6e74657874223a226465736b746f702d6c696e7578227d2c22636f6e66696746696c65223a7b22246d6964223a312c22667350617468223a222f55736572732f7461696b696d69796174612f446f63756d656e74732f646f636b65722d707974686f6e2f6f70742f2e646576636f6e7461696e65722f646576636f6e7461696e65722e6a736f6e222c2265787465726e616c223a2266696c653a2f2f2f55736572732f7461696b696d69796174612f446f63756d656e74732f646f636b65722d707974686f6e2f6f70742f2e646576636f6e7461696e65722f646576636f6e7461696e65722e6a736f6e222c2270617468223a222f55736572732f7461696b696d69796174612f446f63756d656e74732f646f636b65722d707974686f6e2f6f70742f2e646576636f6e7461696e65722f646576636f6e7461696e65722e6a736f6e222c22736368656d65223a2266696c65227d7d/workspaces/opt/Untitled4.ipynb#W6sdnNjb2RlLXJlbW90ZQ%3D%3D?line=11'>12</a>\u001b[0m \u001b[39mfrom\u001b[39;00m \u001b[39mutils\u001b[39;00m \u001b[39mimport\u001b[39;00m \u001b[39m*\u001b[39m\n\u001b[0;32m---> <a href='vscode-notebook-cell://dev-container%2B7b22686f737450617468223a222f55736572732f7461696b696d69796174612f446f63756d656e74732f646f636b65722d707974686f6e2f6f7074222c226c6f63616c446f636b6572223a66616c73652c2273657474696e6773223a7b22636f6e74657874223a226465736b746f702d6c696e7578227d2c22636f6e66696746696c65223a7b22246d6964223a312c22667350617468223a222f55736572732f7461696b696d69796174612f446f63756d656e74732f646f636b65722d707974686f6e2f6f70742f2e646576636f6e7461696e65722f646576636f6e7461696e65722e6a736f6e222c2265787465726e616c223a2266696c653a2f2f2f55736572732f7461696b696d69796174612f446f63756d656e74732f646f636b65722d707974686f6e2f6f70742f2e646576636f6e7461696e65722f646576636f6e7461696e65722e6a736f6e222c2270617468223a222f55736572732f7461696b696d69796174612f446f63756d656e74732f646f636b65722d707974686f6e2f6f70742f2e646576636f6e7461696e65722f646576636f6e7461696e65722e6a736f6e222c22736368656d65223a2266696c65227d7d/workspaces/opt/Untitled4.ipynb#W6sdnNjb2RlLXJlbW90ZQ%3D%3D?line=12'>13</a>\u001b[0m root \u001b[39m=\u001b[39m args\u001b[39m.\u001b[39mroot\n\u001b[1;32m     <a href='vscode-notebook-cell://dev-container%2B7b22686f737450617468223a222f55736572732f7461696b696d69796174612f446f63756d656e74732f646f636b65722d707974686f6e2f6f7074222c226c6f63616c446f636b6572223a66616c73652c2273657474696e6773223a7b22636f6e74657874223a226465736b746f702d6c696e7578227d2c22636f6e66696746696c65223a7b22246d6964223a312c22667350617468223a222f55736572732f7461696b696d69796174612f446f63756d656e74732f646f636b65722d707974686f6e2f6f70742f2e646576636f6e7461696e65722f646576636f6e7461696e65722e6a736f6e222c2265787465726e616c223a2266696c653a2f2f2f55736572732f7461696b696d69796174612f446f63756d656e74732f646f636b65722d707974686f6e2f6f70742f2e646576636f6e7461696e65722f646576636f6e7461696e65722e6a736f6e222c2270617468223a222f55736572732f7461696b696d69796174612f446f63756d656e74732f646f636b65722d707974686f6e2f6f70742f2e646576636f6e7461696e65722f646576636f6e7461696e65722e6a736f6e222c22736368656d65223a2266696c65227d7d/workspaces/opt/Untitled4.ipynb#W6sdnNjb2RlLXJlbW90ZQ%3D%3D?line=13'>14</a>\u001b[0m seed \u001b[39m=\u001b[39m args\u001b[39m.\u001b[39mseed\n\u001b[1;32m     <a href='vscode-notebook-cell://dev-container%2B7b22686f737450617468223a222f55736572732f7461696b696d69796174612f446f63756d656e74732f646f636b65722d707974686f6e2f6f7074222c226c6f63616c446f636b6572223a66616c73652c2273657474696e6773223a7b22636f6e74657874223a226465736b746f702d6c696e7578227d2c22636f6e66696746696c65223a7b22246d6964223a312c22667350617468223a222f55736572732f7461696b696d69796174612f446f63756d656e74732f646f636b65722d707974686f6e2f6f70742f2e646576636f6e7461696e65722f646576636f6e7461696e65722e6a736f6e222c2265787465726e616c223a2266696c653a2f2f2f55736572732f7461696b696d69796174612f446f63756d656e74732f646f636b65722d707974686f6e2f6f70742f2e646576636f6e7461696e65722f646576636f6e7461696e65722e6a736f6e222c2270617468223a222f55736572732f7461696b696d69796174612f446f63756d656e74732f646f636b65722d707974686f6e2f6f70742f2e646576636f6e7461696e65722f646576636f6e7461696e65722e6a736f6e222c22736368656d65223a2266696c65227d7d/workspaces/opt/Untitled4.ipynb#W6sdnNjb2RlLXJlbW90ZQ%3D%3D?line=16'>17</a>\u001b[0m train \u001b[39m=\u001b[39m pd\u001b[39m.\u001b[39mread_feather(\u001b[39mf\u001b[39m\u001b[39m'\u001b[39m\u001b[39m/workspaces/opt/train.feather\u001b[39m\u001b[39m'\u001b[39m)\n",
            "\u001b[0;31mNameError\u001b[0m: name 'args' is not defined"
          ]
        }
      ],
      "source": [
        "import warnings\n",
        "warnings.simplefilter('ignore')\n",
        "\n",
        "import pandas as pd\n",
        "import numpy as np\n",
        "import matplotlib.pyplot as plt\n",
        "import gc,os,random\n",
        "import time,datetime\n",
        "from tqdm import tqdm\n",
        "from sklearn.preprocessing import LabelEncoder\n",
        "\n",
        "from utils import *\n",
        "root = args.root\n",
        "seed = args.seed\n",
        "\n",
        "\n",
        "train = pd.read_feather(f'/workspaces/opt/train.feather')\n",
        "test = pd.read_feather(f'/workspaces/opt/test.feather')\n",
        "\n",
        "def one_hot_encoding(df,cols,is_drop=True):\n",
        "    for col in cols:\n",
        "        print('one hot encoding:',col)\n",
        "        dummies = pd.get_dummies(pd.Series(df[col]),prefix='oneHot_%s'%col)\n",
        "        df = pd.concat([df,dummies],axis=1)\n",
        "    if is_drop:\n",
        "        df.drop(cols,axis=1,inplace=True)\n",
        "    return df\n",
        "cat_features = [\"B_30\",\"B_38\",\"D_114\",\"D_116\",\"D_117\",\"D_120\",\"D_126\",\"D_63\",\"D_64\",\"D_66\",\"D_68\"]\n",
        "eps = 1e-3\n",
        "\n",
        "\n",
        "train_y =  pd.read_csv(f'{root}/train_labels.csv')\n",
        "train = train.merge(train_y,how='left',on=id_name)\n",
        "\n",
        "print(train.shape,test.shape)\n",
        "\n",
        "lgb_config = {\n",
        "    'lgb_params':{\n",
        "                  'objective' : 'binary',\n",
        "                  'metric' : 'binary_logloss',\n",
        "                  'boosting': 'dart',\n",
        "                  'max_depth' : -1,\n",
        "                  'num_leaves' : 64,\n",
        "                  'learning_rate' : 0.035,\n",
        "                  'bagging_freq': 5,\n",
        "                  'bagging_fraction' : 0.7,\n",
        "                  'feature_fraction' : 0.7,\n",
        "                  'min_data_in_leaf': 256,\n",
        "                  'max_bin': 63,\n",
        "                  'min_data_in_bin': 256,\n",
        "                  # 'min_sum_heassian_in_leaf': 10,\n",
        "                  'tree_learner': 'serial',\n",
        "                  'boost_from_average': 'false',\n",
        "                  'lambda_l1' : 0.1,\n",
        "                  'lambda_l2' : 30,\n",
        "                  'num_threads': 24,\n",
        "                  'verbosity' : 1,\n",
        "    },\n",
        "    'feature_name':[col for col in train.columns if col not in [id_name,label_name,'S_2']],\n",
        "    'rounds':4500,\n",
        "    'early_stopping_rounds':100,\n",
        "    'verbose_eval':50,\n",
        "    'folds':5,\n",
        "    'seed':seed\n",
        "}\n",
        "\n",
        "\n",
        "Lgb_train_and_predict(train,test,lgb_config,gkf=True,aug=None,run_id='LGB_with_series_feature')"
      ]
    }
  ],
  "metadata": {
    "colab": {
      "provenance": []
    },
    "kernelspec": {
      "display_name": "Python 3",
      "name": "python3"
    },
    "language_info": {
      "codemirror_mode": {
        "name": "ipython",
        "version": 3
      },
      "file_extension": ".py",
      "mimetype": "text/x-python",
      "name": "python",
      "nbconvert_exporter": "python",
      "pygments_lexer": "ipython3",
      "version": "3.11.6"
    }
  },
  "nbformat": 4,
  "nbformat_minor": 0
}
